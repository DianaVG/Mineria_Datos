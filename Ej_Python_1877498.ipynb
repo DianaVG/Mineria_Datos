{
  "nbformat": 4,
  "nbformat_minor": 0,
  "metadata": {
    "colab": {
      "name": "Ej_Python_1877498.ipynb",
      "provenance": [],
      "collapsed_sections": [],
      "authorship_tag": "ABX9TyNBsNNaio5QbjhlsQvP/2gt",
      "include_colab_link": true
    },
    "kernelspec": {
      "name": "python3",
      "display_name": "Python 3"
    },
    "language_info": {
      "name": "python"
    }
  },
  "cells": [
    {
      "cell_type": "markdown",
      "metadata": {
        "id": "view-in-github",
        "colab_type": "text"
      },
      "source": [
        "<a href=\"https://colab.research.google.com/github/DianaVG/Mineria_Datos/blob/main/Ej_Python_1877498.ipynb\" target=\"_parent\"><img src=\"https://colab.research.google.com/assets/colab-badge.svg\" alt=\"Open In Colab\"/></a>"
      ]
    },
    {
      "cell_type": "markdown",
      "metadata": {
        "id": "QhBjucrSVt7Q"
      },
      "source": [
        "# **Evidencia de aprendizaje: Ejercicios de Python (básicos)**\n",
        "\n",
        "---"
      ]
    },
    {
      "cell_type": "markdown",
      "metadata": {
        "id": "kjJILHfSJbGX"
      },
      "source": [
        "**Ejercicios principales**\n",
        "---\n",
        "---"
      ]
    },
    {
      "cell_type": "markdown",
      "metadata": {
        "id": "pJe1dJVHWH1e"
      },
      "source": [
        "*   Problema 1:\n",
        "Realiza una variable con tu matricula y realiza una secuencia de imprimir con tu nombre y tu matricula concatenados.\n",
        "\n",
        "\n"
      ]
    },
    {
      "cell_type": "code",
      "metadata": {
        "id": "QrWInlv1WKOt",
        "colab": {
          "base_uri": "https://localhost:8080/"
        },
        "outputId": "7d26de84-71dc-4435-9873-0b01451c7705"
      },
      "source": [
        "m=1877498\n",
        "\n",
        "print(\"El nombre es Diana Villarreal Garza y la matrícula es:\", m)"
      ],
      "execution_count": 41,
      "outputs": [
        {
          "output_type": "stream",
          "text": [
            "El nombre es Diana Villarreal Garza y la matrícula es: 1877498\n"
          ],
          "name": "stdout"
        }
      ]
    },
    {
      "cell_type": "markdown",
      "metadata": {
        "id": "OzbQ595_Xpon"
      },
      "source": [
        "\n",
        "\n",
        "*   Problema 2: Pidiendo el input del usuario pide dos números y crea una pequeña calculadora con los operadores básicos de suma, resta, multiplicación, división, y exponente.\n",
        "Utilizando el loop de while\n",
        "\n"
      ]
    },
    {
      "cell_type": "code",
      "metadata": {
        "id": "Poqz0KtUX4Kc",
        "colab": {
          "base_uri": "https://localhost:8080/"
        },
        "outputId": "2fd6ed23-f09b-4e17-917c-0abc26efa625"
      },
      "source": [
        "res=input(\"¿Desea realizar una operacion básica con dos números? SI/NO: \")\n",
        "while(res==\"SI\"):\n",
        " a=input(\"Ingresa el primer número: \")\n",
        " b=input(\"Ingresa el segundo número: \")\n",
        " a=float(a)\n",
        " b=float(b)\n",
        " print(\"\\n_____CALCULADORA_____\")\n",
        " #Suma\n",
        " print(\"Dados los valores de\", a, \"y\",b,\"se obtiene lo siguiente: \")\n",
        " print(\"El valor de la suma es: \", round(a+b,5))\n",
        " #Resta\n",
        " print(\"El valor de la resta del primer y segundo número es: \",round(a-b,5))\n",
        " #multiplicación\n",
        " print(\"El valor de la multiplicación es: \", round(a*b, 5))\n",
        " #división\n",
        " print(\"El valor de la división del primer y segundo número es: \", round(a/b, 5))\n",
        " #exponencial\n",
        " print(\"El valor del primer número elevado al segundo es: \",round( a**b,5))\n",
        " res=input(\"\\n¿Desea realizar otra operacion básica con dos números? SI/NO: \")"
      ],
      "execution_count": 42,
      "outputs": [
        {
          "output_type": "stream",
          "text": [
            "¿Desea realizar una operacion básica con dos números? SI/NO: SI\n",
            "Ingresa el primer número: 2.3\n",
            "Ingresa el segundo número: 4\n",
            "\n",
            "_____CALCULADORA_____\n",
            "Dados los valores de 2.3 y 4.0 se obtiene lo siguiente: \n",
            "El valor de la suma es:  6.3\n",
            "El valor de la resta del primer y segundo número es:  -1.7\n",
            "El valor de la multiplicación es:  9.2\n",
            "El valor de la división del primer y segundo número es:  0.575\n",
            "El valor del primer número elevado al segundo es:  27.9841\n",
            "\n",
            "¿Desea realizar otra operacion básica con dos números? SI/NO: NO\n"
          ],
          "name": "stdout"
        }
      ]
    },
    {
      "cell_type": "markdown",
      "metadata": {
        "id": "7sTNBpp9ccl0"
      },
      "source": [
        "\n",
        "\n",
        "*   Ejercicio 3:\n",
        "Con loop while o for, realiza una lista de 10 numeros multiplos de 3, y después realiza una función de loop que sume todos los números dentro del arreglo.\n",
        "\n"
      ]
    },
    {
      "cell_type": "code",
      "metadata": {
        "id": "jYHM-VafcqF7",
        "colab": {
          "base_uri": "https://localhost:8080/"
        },
        "outputId": "d6999881-e556-41c5-9e3b-7ff2f0f2fac7"
      },
      "source": [
        "import random \n",
        "#creando la lista\n",
        "lis1=[]\n",
        "#llenándola\n",
        "for  i in range (0,10):\n",
        "  x=random.randint(0,100)\n",
        "  lis1.append(x*3)\n",
        "#suma\n",
        "s=0\n",
        "for i in range(0,10):\n",
        "  s=lis1[i]+s\n",
        "#impresión de la suma y lista\n",
        "print(\"La lista de números es:\", lis1)\n",
        "print(\"La suma de los números es:\", s)"
      ],
      "execution_count": 43,
      "outputs": [
        {
          "output_type": "stream",
          "text": [
            "La lista de números es: [81, 249, 156, 93, 213, 114, 24, 261, 282, 27]\n",
            "La suma de los números es: 1500\n"
          ],
          "name": "stdout"
        }
      ]
    },
    {
      "cell_type": "markdown",
      "metadata": {
        "id": "SdUVOjAylkKY"
      },
      "source": [
        "\n",
        "\n",
        "*   Ejercicio 4: \n",
        "Con una función de if else, revisar si un número es par o es impar.\n",
        "Con una función de if else, revisar si un número es primo o no.\n",
        "\n"
      ]
    },
    {
      "cell_type": "code",
      "metadata": {
        "id": "51sF2zTMljhV",
        "colab": {
          "base_uri": "https://localhost:8080/"
        },
        "outputId": "3b19e073-8d71-4705-b35a-b6c5e7d7907d"
      },
      "source": [
        "#Par/impar\n",
        "#petición del número\n",
        "n=int(input(\"Ingrese un número: \"))\n",
        "#revisar si es divisible entre 2\n",
        "\n",
        "if (n%2==0):\n",
        "   print(\"El número:\", n, \"es par\")\n",
        "else:\n",
        "    print(\"El número:\", n, \"no es par\")\n"
      ],
      "execution_count": 44,
      "outputs": [
        {
          "output_type": "stream",
          "text": [
            "Ingrese un número: 7\n",
            "El número: 7 no es par\n"
          ],
          "name": "stdout"
        }
      ]
    },
    {
      "cell_type": "code",
      "metadata": {
        "id": "gvP-VxdUoUCa",
        "colab": {
          "base_uri": "https://localhost:8080/"
        },
        "outputId": "d797a6fa-f326-4486-a891-9de67c4eb078"
      },
      "source": [
        "#Primo/o no\n",
        "\n",
        "#Petición del número\n",
        "n=int(input(\"Ingrese un número: \"))\n",
        "#Validación de números menores a 2\n",
        "if (n<1):\n",
        "  print(\"El número: \", n, \"no es primo\")\n",
        "else: \n",
        "  suma=0\n",
        "  #Revisar cuantos divisores tiene, hasta n+1 ya que este no es incluido\n",
        "  for i in range (1, n+1):\n",
        "    if n%i==0:\n",
        "      suma=suma+1\n",
        "  #Si tiene 2 (1 y el mismo), quiere decir que es primo, de lo contrario no es\n",
        "  if suma==2:\n",
        "    print(\"El número:\", n, \"es primo\")\n",
        "  else:\n",
        "    print(\"El número:\", n, \"no es primo\")\n",
        "\n",
        "#Referencia: https://www.w3schools.com/python/ref_func_range.asp"
      ],
      "execution_count": 45,
      "outputs": [
        {
          "output_type": "stream",
          "text": [
            "Ingrese un número: 15\n",
            "El número: 15 no es primo\n"
          ],
          "name": "stdout"
        }
      ]
    },
    {
      "cell_type": "markdown",
      "metadata": {
        "id": "d3Gf5nFIqaDU"
      },
      "source": [
        "\n",
        "\n",
        "*  Ejercicio 5:\n",
        "Utilizando diferentes clases en python, crea una calculadora con los operadores básicos de suma, resta, multiplicación, división, y exponente.\n",
        "\n"
      ]
    },
    {
      "cell_type": "code",
      "metadata": {
        "id": "DL8jqQJMqZwJ",
        "colab": {
          "base_uri": "https://localhost:8080/"
        },
        "outputId": "3d52a3a7-018b-480a-c4bf-42b1a16b4a92"
      },
      "source": [
        "#Uso de librerias\n",
        "from IPython.display import clear_output\n",
        "\n",
        "#Declaraciones de funciones\n",
        "def menu():\n",
        "  print(\"_____CALCULADORA_____\")\n",
        "  print(\"Suma=S\", \"Resta=R\", \"Multiplicación=M\", \"División=D\", \"Exponente=E\", sep=\"\\n\", flush=True)\n",
        "  return()\n",
        "\n",
        "def pregunta():\n",
        " res=input(\"\\nSeleccionar el tipo de operación básica a realizar: \")\n",
        " return (res)\n",
        "\n",
        "def valores():\n",
        "  n=(input(\"Ingrese el primer número: \"))\n",
        "  m=(input(\"Ingrese el segundo número: \"))\n",
        "  return [n,m]\n",
        "\n",
        "#Uso de funciones\n",
        "menu()\n",
        "#uso de funciones, retorno de variable string.\n",
        "res=pregunta()\n",
        "#Uso de funciones, retorno de una lista.\n",
        "aux=valores()\n",
        "\n",
        "#Uso de tipo de dato float y uso de listas con la variable aux\n",
        "n=float(aux[0])\n",
        "m=float(aux[1])\n",
        "\n",
        "#Uso de condicionales\n",
        "if (res==\"S\"):\n",
        "  val=n+m\n",
        "elif (res==\"R\"):\n",
        "  val=n-m\n",
        "elif (res==\"M\"):\n",
        "  val=n*m\n",
        "elif (res==\"D\"):\n",
        "  val=n/m\n",
        "elif (res==\"E\"):\n",
        "  val=n**m\n",
        "else: \n",
        "  #Limpiar la consola\n",
        "  clear_output()\n",
        "  print(\"El tipo de operación no esta disponible, intente de nuevo\\n\")\n",
        "  menu()\n",
        "  pregunta()\n",
        "  valores()\n",
        "\n",
        "print(\"\\nEl valor para la operación seleccionada\", res, \"con los valores de\", n, \"y\", m, \"es:\", round(val,5))\n",
        "\n",
        "#Referencias: https://stackoverflow.com/questions/52751413/how-to-clear-python-output-programatically-in-google-colaboratory"
      ],
      "execution_count": 46,
      "outputs": [
        {
          "output_type": "stream",
          "text": [
            "_____CALCULADORA_____\n",
            "Suma=S\n",
            "Resta=R\n",
            "Multiplicación=M\n",
            "División=D\n",
            "Exponente=E\n",
            "\n",
            "Seleccionar el tipo de operación básica a realizar: S\n",
            "Ingrese el primer número: 3.4\n",
            "Ingrese el segundo número: 2\n",
            "\n",
            "El valor para la operación seleccionada S con los valores de 3.4 y 2.0 es: 5.4\n"
          ],
          "name": "stdout"
        }
      ]
    },
    {
      "cell_type": "markdown",
      "metadata": {
        "id": "Pewt0k2GqnIP"
      },
      "source": [
        "\n",
        "**Ejercicios con estructuras básicas de Pyhton**\n",
        "---\n",
        "---\n",
        "\n",
        "\n",
        "\n"
      ]
    },
    {
      "cell_type": "markdown",
      "metadata": {
        "id": "2VAWjREFsiPU"
      },
      "source": [
        "\n",
        "\n",
        "1. Tuplas\n",
        "\n",
        "\n"
      ]
    },
    {
      "cell_type": "markdown",
      "metadata": {
        "id": "ej-feGPWsoHS"
      },
      "source": [
        "\n",
        "\n",
        "* Ejercicio 1: Crear una variable flotante, integer, boleana y compleja e imprimir el tipo de variable que es.\n"
      ]
    },
    {
      "cell_type": "code",
      "metadata": {
        "id": "ksv6HW3Wshqz",
        "colab": {
          "base_uri": "https://localhost:8080/"
        },
        "outputId": "9a8f7ad8-aea1-492a-f33a-70adea3db6e5"
      },
      "source": [
        "#variable flotante\n",
        "n1=3.4\n",
        "\n",
        "print(\"El tipo de la variable 1 con valor:\", \"\\\"\",n1,\"\\\"\", \"es\", type(n1))\n",
        "\n",
        "#variable entera\n",
        "n2=4\n",
        "print(\"El tipo de la variable 2 con valor:\", \"\\\"\",n2,\"\\\"\", \"es\",type(n2))\n",
        "\n",
        "#variable boleana\n",
        "n3=True\n",
        "print(\"El tipo de la variable 3 con valor:\", \"\\\"\",n3,\"\\\"\", \"es\",type(n3))\n",
        "\n",
        "#variable compleja\n",
        "n4=5+8j\n",
        "print(\"El tipo de la variable 4 con valor:\", \"\\\"\",n4,\"\\\"\", \"es\",type(n4))"
      ],
      "execution_count": 47,
      "outputs": [
        {
          "output_type": "stream",
          "text": [
            "El tipo de la variable 1 con valor: \" 3.4 \" es <class 'float'>\n",
            "El tipo de la variable 2 con valor: \" 4 \" es <class 'int'>\n",
            "El tipo de la variable 3 con valor: \" True \" es <class 'bool'>\n",
            "El tipo de la variable 4 con valor: \" (5+8j) \" es <class 'complex'>\n"
          ],
          "name": "stdout"
        }
      ]
    },
    {
      "cell_type": "markdown",
      "metadata": {
        "id": "gbvTgCjYu4AS"
      },
      "source": [
        "\n",
        "\n",
        "* Ejercicio 2: Crear una tupla con valores enteros imprimir el primer y ultimo valor\n",
        "\n",
        "\n"
      ]
    },
    {
      "cell_type": "code",
      "metadata": {
        "id": "C1HWQENRu60w",
        "colab": {
          "base_uri": "https://localhost:8080/"
        },
        "outputId": "981b435e-a985-4fea-c568-89775afff381"
      },
      "source": [
        "#creacion de la tupla\n",
        "t1=(2,3,6,8,2,6,9,10,7,9)\n",
        "#impresion\n",
        "print(\"La tupla es:\", t1)\n",
        "print(\"El primer y último valor son:\", t1[0], \"y\",t1[len(t1)-1])"
      ],
      "execution_count": 48,
      "outputs": [
        {
          "output_type": "stream",
          "text": [
            "La tupla es: (2, 3, 6, 8, 2, 6, 9, 10, 7, 9)\n",
            "El primer y último valor son: 2 y 9\n"
          ],
          "name": "stdout"
        }
      ]
    },
    {
      "cell_type": "markdown",
      "metadata": {
        "id": "Uzkhl59YwLaa"
      },
      "source": [
        "\n",
        "\n",
        "* Ejercicio 3: Añadir 3 valores de string a la tupla.\n",
        "\n"
      ]
    },
    {
      "cell_type": "code",
      "metadata": {
        "id": "hUXgOezLwLHi",
        "colab": {
          "base_uri": "https://localhost:8080/"
        },
        "outputId": "be3c0a86-3f85-4e12-f713-a2fc6ff4a867"
      },
      "source": [
        "#Agregando los valores\n",
        "x=(\"a\",\"b\",\"c\")\n",
        "t1=t1.__add__(x)\n",
        "print(\"La tupla con los valores agreados:\", x, \"es:\", t1)"
      ],
      "execution_count": 49,
      "outputs": [
        {
          "output_type": "stream",
          "text": [
            "La tupla con los valores agreados: ('a', 'b', 'c') es: (2, 3, 6, 8, 2, 6, 9, 10, 7, 9, 'a', 'b', 'c')\n"
          ],
          "name": "stdout"
        }
      ]
    },
    {
      "cell_type": "markdown",
      "metadata": {
        "id": "Zrqy_gqYxZQi"
      },
      "source": [
        "\n",
        "\n",
        "* Ejercicio 4: Verificar si una variable existe dentro de la tupla.\n",
        "\n"
      ]
    },
    {
      "cell_type": "code",
      "metadata": {
        "id": "IEbqeUbAxdfa",
        "colab": {
          "base_uri": "https://localhost:8080/"
        },
        "outputId": "87608a8d-7bcd-4078-cb85-f464fd825019"
      },
      "source": [
        "#Verificando si la variable es númerica o no\n",
        "r=input(\"¿La variable a buscar es númerica? SI/NO: \")\n",
        "#Pidiendo la variable \n",
        "if (r==\"SI\"): \n",
        " a=int(input(\"Ingrese el valor a buscar en la tupla: \"))\n",
        "else: \n",
        " a=input(\"Ingrese el valor a buscar en la tupla: \")\n",
        "\n",
        "print(\"\\nLa tupla es:\", t1)\n",
        "#Buscando si ésta en la tupla o no\n",
        "if ( a in t1):\n",
        "  print(\"La variable:\", a, \"se encuentra en la tupla\")\n",
        "else:  \n",
        "  print(\"La variable:\", a, \"no se encuentra en la tupla\")\n"
      ],
      "execution_count": 50,
      "outputs": [
        {
          "output_type": "stream",
          "text": [
            "¿La variable a buscar es númerica? SI/NO: NO\n",
            "Ingrese el valor a buscar en la tupla: b\n",
            "\n",
            "La tupla es: (2, 3, 6, 8, 2, 6, 9, 10, 7, 9, 'a', 'b', 'c')\n",
            "La variable: b se encuentra en la tupla\n"
          ],
          "name": "stdout"
        }
      ]
    },
    {
      "cell_type": "markdown",
      "metadata": {
        "id": "x2pPVDQHU4Lv"
      },
      "source": [
        "2. Listas\n"
      ]
    },
    {
      "cell_type": "markdown",
      "metadata": {
        "id": "gARbuWNOU7i-"
      },
      "source": [
        "\n",
        "\n",
        "\n",
        "* Ejercicio 1: Crear una lista con 40 elementos aleatorios enteros\n",
        "\n",
        "\n"
      ]
    },
    {
      "cell_type": "code",
      "metadata": {
        "id": "yc5rgJl7U7FC",
        "colab": {
          "base_uri": "https://localhost:8080/"
        },
        "outputId": "e1a93c67-d5c6-4917-9f5b-88cdc936ff7c"
      },
      "source": [
        "#importando la librería random\n",
        "import random \n",
        "\n",
        "#creación de lista\n",
        "l1=[]\n",
        "\n",
        "for i in range (0,40):\n",
        "  l1.append(random.randint(1,100))\n",
        "\n",
        "print(\"La lista con 40 elementos es:\", l1, sep=\"\\n\")\n"
      ],
      "execution_count": 51,
      "outputs": [
        {
          "output_type": "stream",
          "text": [
            "La lista con 40 elementos es:\n",
            "[12, 20, 36, 37, 40, 41, 99, 66, 27, 74, 78, 80, 49, 6, 81, 94, 20, 88, 58, 85, 72, 38, 82, 91, 52, 21, 74, 78, 57, 60, 12, 5, 31, 85, 49, 24, 28, 81, 42, 81]\n"
          ],
          "name": "stdout"
        }
      ]
    },
    {
      "cell_type": "markdown",
      "metadata": {
        "id": "Qfag3ahwg7aK"
      },
      "source": [
        "\n",
        "\n",
        "* Ejercicio 2: Con una funcion (def) crear dos listas nuevas a partir de la lista creada por numeros aleatorios, en la cual en una esten los elementos pares, y en la otra los elementos impares.\n",
        "\n",
        "\n"
      ]
    },
    {
      "cell_type": "code",
      "metadata": {
        "id": "LmfWRtx1hAeR"
      },
      "source": [
        "# creando la funcion, en donde la primera lista son los pares, la segunda son los impares\n",
        "def crearlistas(x):\n",
        "  #crear las listas\n",
        " l_par=[]\n",
        " l_impar=[]\n",
        " for i in range (0, len(l1)):\n",
        "   if l1[i]%2==0:\n",
        "    l_par.append(l1[i])\n",
        "   else:\n",
        "    l_impar.append(l1[i])\n",
        "  #Retornar las listas\n",
        " return [l_par, l_impar] "
      ],
      "execution_count": 52,
      "outputs": []
    },
    {
      "cell_type": "code",
      "metadata": {
        "id": "ycqWT-RShfGu",
        "colab": {
          "base_uri": "https://localhost:8080/"
        },
        "outputId": "de03b9e1-8153-44bd-f667-c5485caea727"
      },
      "source": [
        "#Se llama la función, se da como argumento la lista de los 40 elementos\n",
        "a=crearlistas(l1)\n",
        "#Se imprime\n",
        "\n",
        "print(\"La función regresa la siguiente lista\", a)"
      ],
      "execution_count": 53,
      "outputs": [
        {
          "output_type": "stream",
          "text": [
            "La función regresa la siguiente lista [[12, 20, 36, 40, 66, 74, 78, 80, 6, 94, 20, 88, 58, 72, 38, 82, 52, 74, 78, 60, 12, 24, 28, 42], [37, 41, 99, 27, 49, 81, 85, 91, 21, 57, 5, 31, 85, 49, 81, 81]]\n"
          ],
          "name": "stdout"
        }
      ]
    },
    {
      "cell_type": "markdown",
      "metadata": {
        "id": "WFooQIPS6sIg"
      },
      "source": [
        "\n",
        "\n",
        "* Ejercicio 3: Crear dos variables con la longitud de ambas listas nuevas e imprimir las variables.\n",
        "\n"
      ]
    },
    {
      "cell_type": "code",
      "metadata": {
        "id": "UDitQrcY6rz4",
        "colab": {
          "base_uri": "https://localhost:8080/"
        },
        "outputId": "0d61425d-0880-4d94-b4f0-97b7b4269f30"
      },
      "source": [
        "#Creación de una variable auxiliar \n",
        "aux=crearlistas(l1)\n",
        "\n",
        "#Creación de las variables con la información de ambas listas.\n",
        "l_pares=aux[0]\n",
        "l_impares=aux[1]\n",
        "\n",
        "l_1=len(l_pares)\n",
        "l_2=len(l_impares)\n",
        "\n",
        "#Impresión de variables\n",
        "print(\"De la lista:\", l1, \"se obtiene que:\")\n",
        "print(\"La lista de números pares es:\", l_pares)\n",
        "print(\"La lista de números impares es:\", l_impares)\n",
        "print(\"La longitud de la lista de números pares es:\", l_1, \"y la de impares es:\", l_2)"
      ],
      "execution_count": 54,
      "outputs": [
        {
          "output_type": "stream",
          "text": [
            "De la lista: [12, 20, 36, 37, 40, 41, 99, 66, 27, 74, 78, 80, 49, 6, 81, 94, 20, 88, 58, 85, 72, 38, 82, 91, 52, 21, 74, 78, 57, 60, 12, 5, 31, 85, 49, 24, 28, 81, 42, 81] se obtiene que:\n",
            "La lista de números pares es: [12, 20, 36, 40, 66, 74, 78, 80, 6, 94, 20, 88, 58, 72, 38, 82, 52, 74, 78, 60, 12, 24, 28, 42]\n",
            "La lista de números impares es: [37, 41, 99, 27, 49, 81, 85, 91, 21, 57, 5, 31, 85, 49, 81, 81]\n",
            "La longitud de la lista de números pares es: 24 y la de impares es: 16\n"
          ],
          "name": "stdout"
        }
      ]
    },
    {
      "cell_type": "markdown",
      "metadata": {
        "id": "283IN1rG9Vjn"
      },
      "source": [
        "\n",
        "\n",
        "* Ejercicio 4: Ordenar los elementos de la lista par de mayor a menor, y los de la lista impar de menor a mayor.\n",
        "\n"
      ]
    },
    {
      "cell_type": "code",
      "metadata": {
        "id": "PQPFwY3k9cRU",
        "colab": {
          "base_uri": "https://localhost:8080/"
        },
        "outputId": "08aa4c86-dbfc-441d-d2e0-0f9aa39b1343"
      },
      "source": [
        "#Ordenando los elementos de la lista par de mayor a menor con el uso de la función sort\n",
        "l_pares.sort(reverse=True)\n",
        "\n",
        "#Ordenando los elementos de la lista impar de menor a mayor con el uso de la función sort\n",
        "l_impares.sort(reverse=False)\n",
        "\n",
        "#Impresión de variables\n",
        "print(\"La lista de números pares ordenados de mayor a menor es:\", l_pares)\n",
        "print(\"La lista de números impares ordenados de menor a mayor:\", l_impares)\n",
        "\n",
        "#Referencia: https://www.w3schools.com/python/ref_list_sort.asp"
      ],
      "execution_count": 55,
      "outputs": [
        {
          "output_type": "stream",
          "text": [
            "La lista de números pares ordenados de mayor a menor es: [94, 88, 82, 80, 78, 78, 74, 74, 72, 66, 60, 58, 52, 42, 40, 38, 36, 28, 24, 20, 20, 12, 12, 6]\n",
            "La lista de números impares ordenados de menor a mayor: [5, 21, 27, 31, 37, 41, 49, 49, 57, 81, 81, 81, 85, 85, 91, 99]\n"
          ],
          "name": "stdout"
        }
      ]
    },
    {
      "cell_type": "markdown",
      "metadata": {
        "id": "NHEDsSRn-4KX"
      },
      "source": [
        "\n",
        "\n",
        "* Ejercicio 5: Utilizar al menos cuatro de las funciones de listas en python en la lista original de 40 elementos.\n",
        "\n",
        "\n"
      ]
    },
    {
      "cell_type": "code",
      "metadata": {
        "id": "QcC58xVJ_QWb",
        "colab": {
          "base_uri": "https://localhost:8080/"
        },
        "outputId": "f51998c2-5096-48f2-cee1-fed7f7558cd3"
      },
      "source": [
        "#Agregando otra lista a la lista original de 40 elementos con números del 1 al 10\n",
        "for i in range(1,11):\n",
        "  l1.append(i)\n",
        "print(\"La lista con los números del 1 al 10 agregados al final es:\", l1)"
      ],
      "execution_count": 56,
      "outputs": [
        {
          "output_type": "stream",
          "text": [
            "La lista con los números del 1 al 10 agregados al final es: [12, 20, 36, 37, 40, 41, 99, 66, 27, 74, 78, 80, 49, 6, 81, 94, 20, 88, 58, 85, 72, 38, 82, 91, 52, 21, 74, 78, 57, 60, 12, 5, 31, 85, 49, 24, 28, 81, 42, 81, 1, 2, 3, 4, 5, 6, 7, 8, 9, 10]\n"
          ],
          "name": "stdout"
        }
      ]
    },
    {
      "cell_type": "code",
      "metadata": {
        "id": "-vZbxBeLBoPN",
        "colab": {
          "base_uri": "https://localhost:8080/"
        },
        "outputId": "ee983d36-2468-47ae-f212-fb3a1d6a3f38"
      },
      "source": [
        "#Eliminar todos los elementos igual a 5 con remove\n",
        "\n",
        "l1.sort(reverse=False)\n",
        "print(\"La lista original ordenada es: \", l1)\n",
        "\n",
        "if (l1.count(5)!=0):\n",
        " for i in range(0, len(l1)):\n",
        "   if (l1.count(5)==0):\n",
        "    #Terminar el ciclo cuando ya esten todos los elementos eliminados\n",
        "     break\n",
        "   else:\n",
        "    l1.remove(5)\n",
        " #esto para visualizar en mejor manera la lista\n",
        " l1.sort(reverse=False)\n",
        " print(\"La lista ordenada de menor a mayor con el valor 5 eliminado de ella es:\", l1) \n",
        "else:\n",
        "  print(\"El valor 5 no se encuentra en la lista\")\n",
        "\n",
        "#Referencia: http://lineadecodigo.com/python/eliminar-elementos-de-una-lista-con-python/"
      ],
      "execution_count": 57,
      "outputs": [
        {
          "output_type": "stream",
          "text": [
            "La lista original ordenada es:  [1, 2, 3, 4, 5, 5, 6, 6, 7, 8, 9, 10, 12, 12, 20, 20, 21, 24, 27, 28, 31, 36, 37, 38, 40, 41, 42, 49, 49, 52, 57, 58, 60, 66, 72, 74, 74, 78, 78, 80, 81, 81, 81, 82, 85, 85, 88, 91, 94, 99]\n",
            "La lista ordenada de menor a mayor con el valor 5 eliminado de ella es: [1, 2, 3, 4, 6, 6, 7, 8, 9, 10, 12, 12, 20, 20, 21, 24, 27, 28, 31, 36, 37, 38, 40, 41, 42, 49, 49, 52, 57, 58, 60, 66, 72, 74, 74, 78, 78, 80, 81, 81, 81, 82, 85, 85, 88, 91, 94, 99]\n"
          ],
          "name": "stdout"
        }
      ]
    },
    {
      "cell_type": "code",
      "metadata": {
        "id": "THp86ytdDzPr",
        "colab": {
          "base_uri": "https://localhost:8080/"
        },
        "outputId": "38f180bc-1f3a-4e70-ad10-cd4c4c09d815"
      },
      "source": [
        "#Contar el número de veces que aparece el elemento 10\n",
        "print(\"Los datos originales son:\", l1)\n",
        "print(\"El número de veces que se repite el número 10 es:\",l1.count(10))"
      ],
      "execution_count": 58,
      "outputs": [
        {
          "output_type": "stream",
          "text": [
            "Los datos originales son: [1, 2, 3, 4, 6, 6, 7, 8, 9, 10, 12, 12, 20, 20, 21, 24, 27, 28, 31, 36, 37, 38, 40, 41, 42, 49, 49, 52, 57, 58, 60, 66, 72, 74, 74, 78, 78, 80, 81, 81, 81, 82, 85, 85, 88, 91, 94, 99]\n",
            "El número de veces que se repite el número 10 es: 1\n"
          ],
          "name": "stdout"
        }
      ]
    },
    {
      "cell_type": "code",
      "metadata": {
        "id": "x2qTyMRmGFbr",
        "colab": {
          "base_uri": "https://localhost:8080/"
        },
        "outputId": "941fd323-28ee-4275-af51-7bc05711d0de"
      },
      "source": [
        "#Eliminar el elemento 10,20,30,40 de la lista\n",
        "print(\"La lista original es:\", l1)\n",
        "l1.pop(10)\n",
        "l1.pop(20)\n",
        "l1.pop(30)\n",
        "l1.pop(40)\n",
        "print(\"La nueva lista con los datos eliminados es:\", l1)"
      ],
      "execution_count": 59,
      "outputs": [
        {
          "output_type": "stream",
          "text": [
            "La lista original es: [1, 2, 3, 4, 6, 6, 7, 8, 9, 10, 12, 12, 20, 20, 21, 24, 27, 28, 31, 36, 37, 38, 40, 41, 42, 49, 49, 52, 57, 58, 60, 66, 72, 74, 74, 78, 78, 80, 81, 81, 81, 82, 85, 85, 88, 91, 94, 99]\n",
            "La nueva lista con los datos eliminados es: [1, 2, 3, 4, 6, 6, 7, 8, 9, 10, 12, 20, 20, 21, 24, 27, 28, 31, 36, 37, 40, 41, 42, 49, 49, 52, 57, 58, 60, 66, 74, 74, 78, 78, 80, 81, 81, 81, 82, 85, 88, 91, 94, 99]\n"
          ],
          "name": "stdout"
        }
      ]
    },
    {
      "cell_type": "markdown",
      "metadata": {
        "id": "WBUL-ssQrSex"
      },
      "source": [
        "\n",
        "\n",
        "3. Diccionarios\n",
        "\n",
        "\n"
      ]
    },
    {
      "cell_type": "markdown",
      "metadata": {
        "id": "-nZFZABUrWwc"
      },
      "source": [
        "\n",
        "\n",
        "* Ejercicio 1: Crear un diccionario de 6 personas que conozcas con su primer nombre y su edad.\n",
        "\n"
      ]
    },
    {
      "cell_type": "code",
      "metadata": {
        "id": "hkx2vECZrbfB",
        "colab": {
          "base_uri": "https://localhost:8080/"
        },
        "outputId": "f5d08b4d-12f0-41ed-a78c-f37f335f5a1f"
      },
      "source": [
        "#Creación de diccionario\n",
        "dic1={\"Carolina\": 26, \"Estefania\": 29, \"Fernando\": 30, \"Sandra\": 20, \"Alberto\": 19, \"Arturo\": 22}\n",
        "\n",
        "#Impresión del diccionario\n",
        "print(\"El diccionario es:\", dic1)"
      ],
      "execution_count": 60,
      "outputs": [
        {
          "output_type": "stream",
          "text": [
            "El diccionario es: {'Carolina': 26, 'Estefania': 29, 'Fernando': 30, 'Sandra': 20, 'Alberto': 19, 'Arturo': 22}\n"
          ],
          "name": "stdout"
        }
      ]
    },
    {
      "cell_type": "markdown",
      "metadata": {
        "id": "lzHeRCThtrb-"
      },
      "source": [
        "\n",
        "\n",
        "* Ejercicio 2: Crear una lista con los valores de la edad y reacomodar la lista de menor a mayor valor.\n",
        "\n",
        "\n",
        "\n",
        "\n"
      ]
    },
    {
      "cell_type": "code",
      "metadata": {
        "id": "7MIT39Eptw7H",
        "colab": {
          "base_uri": "https://localhost:8080/"
        },
        "outputId": "3a057064-f241-44bd-c7c4-1fc02fd812b3"
      },
      "source": [
        "#Usando la función de list() creamos una lista a traves del método .values() para obtener los valores de la edad\n",
        "\n",
        "lista_valores=list(dic1.values())\n",
        "\n",
        "#Con el método sort se ordenan los elementos de la lista\n",
        "lista_valores.sort(reverse=False)\n",
        "\n",
        "#impresión\n",
        "print(\"Los valores de la edad acomodados de menor a mayor valor son:\",lista_valores)"
      ],
      "execution_count": 61,
      "outputs": [
        {
          "output_type": "stream",
          "text": [
            "Los valores de la edad acomodados de menor a mayor valor son: [19, 20, 22, 26, 29, 30]\n"
          ],
          "name": "stdout"
        }
      ]
    },
    {
      "cell_type": "markdown",
      "metadata": {
        "id": "0jPDlIDgvF7m"
      },
      "source": [
        "\n",
        "\n",
        "* Ejercicio 3: Usando el diccionario y un loop, imprimir solo los nombres.\n",
        "\n"
      ]
    },
    {
      "cell_type": "code",
      "metadata": {
        "id": "ueOYT4O7weg2",
        "colab": {
          "base_uri": "https://localhost:8080/"
        },
        "outputId": "fd9cf889-dc84-42a0-be89-052c905a9ff8"
      },
      "source": [
        "#Creación de una lista adicional para guardar solo los nombres\n",
        "aux=list(dic1.keys())\n",
        "\n",
        "#Ciclo for\n",
        "for i in range(0, len(aux)):\n",
        "    #Impresión de nombres\n",
        "    print(\"El nombre en la posición\",i+1, \"es:\",aux[i])"
      ],
      "execution_count": 62,
      "outputs": [
        {
          "output_type": "stream",
          "text": [
            "El nombre en la posición 1 es: Carolina\n",
            "El nombre en la posición 2 es: Estefania\n",
            "El nombre en la posición 3 es: Fernando\n",
            "El nombre en la posición 4 es: Sandra\n",
            "El nombre en la posición 5 es: Alberto\n",
            "El nombre en la posición 6 es: Arturo\n"
          ],
          "name": "stdout"
        }
      ]
    },
    {
      "cell_type": "markdown",
      "metadata": {
        "id": "A1xifEXVzRbQ"
      },
      "source": [
        "\n",
        "\n",
        "* Ejercicio 4: Añadir dos personas nuevas a tu diccionario, incluyendo edad.\n",
        "\n",
        "\n",
        "\n"
      ]
    },
    {
      "cell_type": "code",
      "metadata": {
        "id": "grD1AvI50SN0",
        "colab": {
          "base_uri": "https://localhost:8080/"
        },
        "outputId": "585e0581-d212-4f77-9811-5d6241231a9f"
      },
      "source": [
        "#Añadiendo ambas personas \n",
        "dic1.update({\"Julieta\": 3, \"Maria\": 17 })\n",
        "print(\"El diccionario con dos nuevas personas añadidas es:\", dic1)\n",
        "\n",
        "#Referencia: https://stackoverflow.com/questions/6416131/add-a-new-item-to-a-dictionary-in-python"
      ],
      "execution_count": 63,
      "outputs": [
        {
          "output_type": "stream",
          "text": [
            "El diccionario con dos nuevas personas añadidas es: {'Carolina': 26, 'Estefania': 29, 'Fernando': 30, 'Sandra': 20, 'Alberto': 19, 'Arturo': 22, 'Julieta': 3, 'Maria': 17}\n"
          ],
          "name": "stdout"
        }
      ]
    },
    {
      "cell_type": "markdown",
      "metadata": {
        "id": "P6SfsbpP3chY"
      },
      "source": [
        "4. Sets\n"
      ]
    },
    {
      "cell_type": "markdown",
      "metadata": {
        "id": "91560pTC4FiG"
      },
      "source": [
        "\n",
        "\n",
        "* Crea un set con 100 numeros aleatorios enteros del 1 al 25.\n",
        "\n"
      ]
    },
    {
      "cell_type": "code",
      "metadata": {
        "id": "IOE3IbXv4I-3",
        "colab": {
          "base_uri": "https://localhost:8080/"
        },
        "outputId": "e096c175-77d4-4647-ffa7-a1be1a1a56fa"
      },
      "source": [
        "#importando la libreria random\n",
        "import random\n",
        "#Creación de set\n",
        "set1=set()\n",
        "\n",
        "for i in range(0, 100):\n",
        "  a=random.randint(1,25)\n",
        "  set1.add(a)\n",
        "print(\"El set es:\", set1)"
      ],
      "execution_count": 64,
      "outputs": [
        {
          "output_type": "stream",
          "text": [
            "El set es: {1, 2, 3, 4, 5, 6, 7, 8, 9, 10, 11, 12, 13, 14, 15, 16, 17, 18, 19, 20, 21, 22, 23, 24, 25}\n"
          ],
          "name": "stdout"
        }
      ]
    },
    {
      "cell_type": "markdown",
      "metadata": {
        "id": "FleR1HHrCwXP"
      },
      "source": [
        "*Nota*:\n",
        "\n",
        "> *El set creado anteriormente no puede ser de 100 elementos con números aleatorios del 1 al 25, ya que los sets no cuentan con valores duplicados, por lo que solo se llenarán 25 posiciones.*\n",
        "---\n",
        "\n"
      ]
    },
    {
      "cell_type": "markdown",
      "metadata": {
        "id": "vCueX62FDMKN"
      },
      "source": [
        "\n",
        "\n",
        "* Ejercicio 2: Comprueba la longitud de tu set.\n",
        "\n"
      ]
    },
    {
      "cell_type": "code",
      "metadata": {
        "id": "mrX2XQ1vDSwe",
        "colab": {
          "base_uri": "https://localhost:8080/"
        },
        "outputId": "9986c247-687b-4ad0-dbf2-043d39add894"
      },
      "source": [
        "#Revisando longitud\n",
        "print(\"Del set:\", set1)\n",
        "print(\"La longitud del set creado es:\", len(set1))\n",
        "\n",
        "#Nota: la longitud es 25 por lo explicado anteriormente. "
      ],
      "execution_count": 65,
      "outputs": [
        {
          "output_type": "stream",
          "text": [
            "Del set: {1, 2, 3, 4, 5, 6, 7, 8, 9, 10, 11, 12, 13, 14, 15, 16, 17, 18, 19, 20, 21, 22, 23, 24, 25}\n",
            "La longitud del set creado es: 25\n"
          ],
          "name": "stdout"
        }
      ]
    },
    {
      "cell_type": "markdown",
      "metadata": {
        "id": "6tyzbeHWDpEy"
      },
      "source": [
        "\n",
        "\n",
        "* Ejercicio 3: Crea una lista de 5 numeros aleatorios del 1 al 10 y comprueba si cada valor aparece en el set inicial.\n",
        "\n",
        "\n"
      ]
    },
    {
      "cell_type": "code",
      "metadata": {
        "id": "jgfQjvj5Dtad",
        "colab": {
          "base_uri": "https://localhost:8080/"
        },
        "outputId": "7b60d864-c971-4cfd-b66c-9ef3974894a8"
      },
      "source": [
        "import random \n",
        "\n",
        "#creación y llenado de lista\n",
        "lista_al=[]\n",
        "for i in range(0,5):\n",
        " lista_al.append(random.randint(1,10))\n",
        "print(\"El set es:\", set1)\n",
        "print(\"La lista es:\", lista_al)\n",
        "\n",
        "\n",
        "for i in range(0, len(lista_al)):\n",
        "  if (lista_al[i] in set1):\n",
        "    print(\"El elemento:\", lista_al[i], \"se encuentra en el set inicial\")\n",
        "  else: \n",
        "    print(\"El elemento:\",lista_al[i], \"no se encuentra en el set inicial\")"
      ],
      "execution_count": 66,
      "outputs": [
        {
          "output_type": "stream",
          "text": [
            "El set es: {1, 2, 3, 4, 5, 6, 7, 8, 9, 10, 11, 12, 13, 14, 15, 16, 17, 18, 19, 20, 21, 22, 23, 24, 25}\n",
            "La lista es: [7, 9, 2, 6, 10]\n",
            "El elemento: 7 se encuentra en el set inicial\n",
            "El elemento: 9 se encuentra en el set inicial\n",
            "El elemento: 2 se encuentra en el set inicial\n",
            "El elemento: 6 se encuentra en el set inicial\n",
            "El elemento: 10 se encuentra en el set inicial\n"
          ],
          "name": "stdout"
        }
      ]
    }
  ]
}